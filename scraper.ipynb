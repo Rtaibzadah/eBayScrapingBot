{
 "cells": [
  {
   "cell_type": "code",
   "execution_count": 158,
   "id": "a6dd7217-5e24-4c6a-a7a9-d14c483fddeb",
   "metadata": {},
   "outputs": [],
   "source": [
    "from selenium import webdriver\n",
    "from selenium.webdriver.chrome.service import Service\n",
    "from selenium.webdriver.chrome.options import Options\n",
    "from webdriver_manager.chrome import ChromeDriverManager\n",
    "from selenium.webdriver.common.by import By\n",
    "import os\n",
    "import time\n",
    "from bs4 import BeautifulSoup\n",
    "import re\n",
    "import pandas as pd\n",
    "import requests\n"
   ]
  },
  {
   "cell_type": "code",
   "execution_count": 159,
   "id": "a4bf4504-2bd9-4d43-8dae-d147c3bb5526",
   "metadata": {},
   "outputs": [],
   "source": [
    "from selenium import webdriver\n",
    "from selenium.webdriver.chrome.service import Service\n",
    "from selenium.webdriver.chrome.options import Options\n",
    "from webdriver_manager.chrome import ChromeDriverManager\n",
    "\n",
    "# Optional: Configure Chrome options\n",
    "options = Options()\n",
    "# Example: options.add_argument(\"--headless\")  # Uncomment if you want to run in headless mode\n",
    "\n",
    "# Set up the ChromeDriver service\n",
    "service = Service(ChromeDriverManager().install())\n",
    "\n",
    "# Create a new instance of the Chrome driver\n",
    "browser = webdriver.Chrome(service=service, options=options)\n",
    "\n",
    "# Now you can use `browser` to navigate to pages, etc.\n"
   ]
  },
  {
   "cell_type": "code",
   "execution_count": 162,
   "id": "4f8166f1-cee9-4a86-9de0-aa31053ebc21",
   "metadata": {},
   "outputs": [],
   "source": [
    "city = \"toronto\"\n",
    "product = \"Iphone 13\"\n",
    "min_price = 300\n",
    "max_price = 600\n",
    "days_listed = 1"
   ]
  },
  {
   "cell_type": "code",
   "execution_count": 163,
   "id": "b0cf975c-0014-4e52-89d8-ecdcb3614e65",
   "metadata": {},
   "outputs": [],
   "source": [
    "url = f'https://www.facebook.com/marketplace/{city}/search/?query={product}&minPrice={min_price}&maxPrice={max_price}&daysSinceListed={days_listed}&exact=false'\n",
    "\n",
    "browser.get(url)\n"
   ]
  },
  {
   "cell_type": "code",
   "execution_count": 164,
   "id": "a5cecf25-e3ac-47bd-9ad9-da3c064066a0",
   "metadata": {},
   "outputs": [
    {
     "name": "stdout",
     "output_type": "stream",
     "text": [
      "Decline optional cookies button clicked!\n"
     ]
    }
   ],
   "source": [
    "#decline cookies\n",
    "try:\n",
    "    decline_button = browser.find_element(By.XPATH, '//div[@aria-label=\"Decline optional cookies\" and @role=\"button\"]')\n",
    "    decline_button.click()\n",
    "    print(\"Decline optional cookies button clicked!\")\n",
    "except Exception as e:  # It's good practice to catch the exception\n",
    "    print(\"Decline optional cookies button not found or could not be clicked.\")\n",
    "    pass\n"
   ]
  },
  {
   "cell_type": "code",
   "execution_count": 165,
   "id": "781be9a6-bacb-4e0f-9307-93b1baf0686f",
   "metadata": {},
   "outputs": [
    {
     "name": "stdout",
     "output_type": "stream",
     "text": [
      "closed signup\n"
     ]
    }
   ],
   "source": [
    "#decline cookies\n",
    "try:\n",
    "    close_button = browser.find_element(By.XPATH, '//div[@aria-label=\"Close\" and @role=\"button\"]')\n",
    "    close_button.click()\n",
    "    print(\"closed signup\")\n",
    "except Exception as e:  # It's good practice to catch the exception\n",
    "    print(\"not found or could not be clicked - signup.\")\n",
    "    pass\n"
   ]
  },
  {
   "cell_type": "code",
   "execution_count": 166,
   "id": "063c59b9-5cc1-4c76-bf27-2d31b3984a56",
   "metadata": {},
   "outputs": [
    {
     "name": "stdout",
     "output_type": "stream",
     "text": [
      "Close signup button not found or could not be clicked.\n"
     ]
    }
   ],
   "source": [
    "try:\n",
    "    close_button = browser.find_element(By.XPATH, '//div[@aria-label=\"Close\" and @role=\"button\"]')\n",
    "    close_button.click()\n",
    "    print(\"Closed signup popup.\")\n",
    "except Exception as e:  # It's good practice to catch the exception\n",
    "    print(\"Close signup button not found or could not be clicked.\")\n",
    "    pass\n"
   ]
  },
  {
   "cell_type": "code",
   "execution_count": 167,
   "id": "526424c7-0f01-4f46-867e-2059ecea4e20",
   "metadata": {},
   "outputs": [
    {
     "name": "stdout",
     "output_type": "stream",
     "text": [
      "Close signup button not found or could not be clicked.\n"
     ]
    }
   ],
   "source": [
    "try:\n",
    "    close_button = browser.find_element(By.XPATH, '//div[@aria-label=\"Close\" and @role=\"button\"]')\n",
    "    close_button.click()\n",
    "    print(\"Closed signup popup.\")\n",
    "except Exception as e:  # It's good practice to catch the exception\n",
    "    print(\"Close signup button not found or could not be clicked.\")\n",
    "    pass"
   ]
  },
  {
   "cell_type": "code",
   "execution_count": 168,
   "id": "478420f0-a108-4cee-8ede-d7529907f820",
   "metadata": {},
   "outputs": [
    {
     "name": "stdout",
     "output_type": "stream",
     "text": [
      "Scrolled\n",
      "Scrolled\n",
      "Scrolled\n",
      "Scrolled\n",
      "Scrolled\n",
      "Scrolled\n"
     ]
    }
   ],
   "source": [
    "try:\n",
    "    last_height = browser.execute_script(\"return document.body.scrollHeight\")\n",
    "    while True:\n",
    "        # Scroll to the bottom of the page\n",
    "        browser.execute_script(\"window.scrollTo(0, document.body.scrollHeight);\")\n",
    "        # 4-second pause to allow page to load\n",
    "        time.sleep(4)\n",
    "        new_height = browser.execute_script(\"return document.body.scrollHeight\")\n",
    "        # Check if we've reached the bottom of the page\n",
    "        if new_height == last_height:\n",
    "            break\n",
    "\n",
    "        # Update scroll position for the next iteration\n",
    "        last_height = new_height\n",
    "\n",
    "        print(\"Scrolled\")\n",
    "except Exception as e:\n",
    "    print(f\"Oh no, an error occurred: {e}\")\n",
    "\n",
    "        \n",
    "        \n",
    "\n",
    "        \n",
    "\n",
    "\n"
   ]
  },
  {
   "cell_type": "code",
   "execution_count": 169,
   "id": "750fb61a-b172-4695-bd96-fbb33ccb8ff2",
   "metadata": {},
   "outputs": [
    {
     "name": "stdout",
     "output_type": "stream",
     "text": [
      "Scrolled\n",
      "Scrolled\n",
      "Scrolled\n",
      "Reached the bottom or no more new content loaded.\n"
     ]
    }
   ],
   "source": [
    "from selenium.common.exceptions import WebDriverException\n",
    "import time\n",
    "\n",
    "try:\n",
    "    last_height = browser.execute_script(\"return document.body.scrollHeight\")\n",
    "    scroll_attempts = 0  # Track how many times no new content was loaded\n",
    "\n",
    "    while scroll_attempts < 3:  # Retry scrolling 3 times if no new content loads\n",
    "        # Scroll to the bottom of the page\n",
    "        browser.execute_script(\"window.scrollTo(0, document.body.scrollHeight);\")\n",
    "\n",
    "        # Wait to allow new content to load\n",
    "        time.sleep(4)\n",
    "\n",
    "        new_height = browser.execute_script(\"return document.body.scrollHeight\")\n",
    "\n",
    "        # Check if we've reached the bottom of the page or if new content loaded\n",
    "        if new_height == last_height:\n",
    "            scroll_attempts += 1  # No new content, increase attempts counter\n",
    "        else:\n",
    "            last_height = new_height  # New content loaded, reset attempts\n",
    "            scroll_attempts = 0\n",
    "\n",
    "        print(\"Scrolled\")\n",
    "\n",
    "    print(\"Reached the bottom or no more new content loaded.\")\n",
    "\n",
    "except WebDriverException as e:\n",
    "    print(f\"Oh no, an error occurred: {e}\")\n"
   ]
  },
  {
   "cell_type": "code",
   "execution_count": 170,
   "id": "48be99cf-a80c-41cd-85fa-6608b88710f2",
   "metadata": {},
   "outputs": [],
   "source": [
    "#get the html\n",
    "html = browser.page_source\n",
    "soup = BeautifulSoup(html, 'html.parser')\n",
    "\n",
    "browser.close()\n"
   ]
  },
  {
   "cell_type": "code",
   "execution_count": 173,
   "id": "76dca231-2f51-4c08-8fe2-3fcc18ac2927",
   "metadata": {},
   "outputs": [
    {
     "name": "stdout",
     "output_type": "stream",
     "text": [
      "Filtered item links: 35\n"
     ]
    }
   ],
   "source": [
    "\n",
    "item_links = [link for link in links if product.lower() in link.text.strip().lower() or city.lower() in link.text.strip().lower()]\n",
    "item_data = []\n",
    "print(f\"Filtered item links: {len(item_links)}\")\n",
    "for item_link in item_links:\n",
    "    url = item_link.get('href') or 'No URL'\n",
    "    text = '\\n'.join(item_link.stripped_strings)\n",
    "    item_data.append(f\"Text: {text}, URL: {url}\")\n",
    "    # print(f\"URL: {url}, Text: {text}\")  # Print each item link\n"
   ]
  },
  {
   "cell_type": "code",
   "execution_count": 175,
   "id": "8a00a066-60a2-4dd6-b442-98177b3adcb8",
   "metadata": {},
   "outputs": [
    {
     "name": "stdout",
     "output_type": "stream",
     "text": [
      "Price extracted: 455.0\n",
      "Price extracted: 520.0\n",
      "Price extracted: 450.0\n",
      "Price extracted: 470.0\n",
      "Price extracted: 600.0\n",
      "Price extracted: 375.0\n",
      "Price extracted: 500.0\n",
      "Price extracted: 600.0\n",
      "Price extracted: 550.0\n",
      "Price extracted: 550.0\n",
      "Price extracted: 525.0\n",
      "Price extracted: 575.0\n",
      "Price extracted: 440.0\n",
      "Price extracted: 520.0\n",
      "Price extracted: 539.0\n",
      "Price extracted: 539.0\n",
      "Price extracted: 300.0\n",
      "Price extracted: 539.0\n",
      "Price extracted: 300.0\n",
      "Price extracted: 600.0\n",
      "Price extracted: 550.0\n",
      "Price extracted: 470.0\n",
      "Price extracted: 430.0\n",
      "Price extracted: 380.0\n",
      "Price extracted: 550.0\n",
      "Price extracted: 450.0\n",
      "Price extracted: 580.0\n",
      "Price extracted: 600.0\n",
      "Price extracted: 550.0\n",
      "Price extracted: 450.0\n",
      "Price extracted: 485.0\n",
      "Price extracted: 550.0\n",
      "Price extracted: 550.0\n",
      "Price extracted: 570.0\n",
      "Price extracted: 520.0\n",
      "{'title': 'Excellent condition white Apple IPhone 13 128 GB', 'price': 455.0, 'location': 'Candiac, QC', 'url': '/marketplace/item/1082804089882334/?ref=search&referral_code=null&referral_story_type=post&__tn__=!%3AD'}\n",
      "{'title': 'iPhone 13 128gb', 'price': 520.0, 'location': 'Waterloo, ON', 'url': '/marketplace/item/1334471217938178/?ref=search&referral_code=null&referral_story_type=post&__tn__=!%3AD'}\n",
      "{'title': 'iPhone 13 128 Gb', 'price': 450.0, 'location': 'Montréal, QC', 'url': '/marketplace/item/1070938851221745/?ref=search&referral_code=null&referral_story_type=post&__tn__=!%3AD'}\n",
      "{'title': 'IPHONE 13 *IMPECCABLE', 'price': 470.0, 'location': 'Laval, QC', 'url': '/marketplace/item/374255889075282/?ref=search&referral_code=null&referral_story_type=post&__tn__=!%3AD'}\n",
      "{'title': 'iPhone 13 Pro', 'price': 600.0, 'location': 'Laval, QC', 'url': '/marketplace/item/877059837708630/?ref=search&referral_code=null&referral_story_type=post&__tn__=!%3AD'}\n",
      "{'title': 'iphone 13 mini 128gb', 'price': 375.0, 'location': 'Montréal, QC', 'url': '/marketplace/item/490229090653147/?ref=search&referral_code=null&referral_story_type=post&__tn__=!%3AD'}\n",
      "{'title': 'Iphone 13 128GB Noir', 'price': 500.0, 'location': 'Drummondville, QC', 'url': '/marketplace/item/540691931754499/?ref=search&referral_code=null&referral_story_type=post&__tn__=!%3AD'}\n",
      "{'title': 'iPhone 13  midnight black mint condition! 128gb', 'price': 600.0, 'location': 'Montréal, QC', 'url': '/marketplace/item/960149645879200/?ref=search&referral_code=null&referral_story_type=post&__tn__=!%3AD'}\n",
      "{'title': 'iPhone 13 128g unlock', 'price': 550.0, 'location': 'Delson, QC', 'url': '/marketplace/item/1037055284542976/?ref=search&referral_code=null&referral_story_type=post&__tn__=!%3AD'}\n",
      "{'title': 'Iphone 13', 'price': 550.0, 'location': 'Montréal, QC', 'url': '/marketplace/item/503449465656858/?ref=search&referral_code=null&referral_story_type=post&__tn__=!%3AD'}\n",
      "{'title': 'iPhone 13 LIKE NEW 128 gb blue', 'price': 525.0, 'location': 'Pointe-Claire, QC', 'url': '/marketplace/item/3607059776181400/?ref=search&referral_code=null&referral_story_type=post&__tn__=!%3AD'}\n",
      "{'title': 'Iphone 13 Pro (128gb) Graphite', 'price': 575.0, 'location': 'Montréal, QC', 'url': '/marketplace/item/3949010215344597/?ref=search&referral_code=null&referral_story_type=post&__tn__=!%3AD'}\n",
      "{'title': 'IPHONE 13 NOIR TRÈS BON ÉTAT 128GB', 'price': 440.0, 'location': 'Montréal, QC', 'url': '/marketplace/item/492838133543202/?ref=search&referral_code=null&referral_story_type=post&__tn__=!%3AD'}\n",
      "{'title': 'IPhone 13 128gb Unlocked', 'price': 520.0, 'location': 'Laval, QC', 'url': '/marketplace/item/8238588919587348/?ref=search&referral_code=null&referral_story_type=post&__tn__=!%3AD'}\n",
      "{'title': 'Iphone 13, AVEC GARANTIE', 'price': 539.0, 'location': 'Montréal, QC', 'url': '/marketplace/item/881391583498267/?ref=search&referral_code=null&referral_story_type=post&__tn__=!%3AD'}\n",
      "{'title': 'Iphone 13 128Gb Unlocked en Rabais', 'price': 539.0, 'location': 'Montréal, QC', 'url': '/marketplace/item/855341866331390/?ref=search&referral_code=null&referral_story_type=post&__tn__=!%3AD'}\n",
      "{'title': 'iPhone 13 (white)', 'price': 300.0, 'location': 'North Bay, ON', 'url': '/marketplace/item/3834218316834157/?ref=search&referral_code=null&referral_story_type=post&__tn__=!%3AD'}\n",
      "{'title': 'Iphone 13 Unlocked, Chargeur et cable inclus', 'price': 539.0, 'location': 'Longueuil, QC', 'url': '/marketplace/item/821159386897306/?ref=search&referral_code=null&referral_story_type=post&__tn__=!%3AD'}\n",
      "{'title': 'iPhone 13 512GB - Unlocked - New Cash 4 Phones NEW / LOCKED / BROKEN', 'price': 300.0, 'location': 'Ottawa, ON', 'url': '/marketplace/item/1516645163065576/?ref=search&referral_code=null&referral_story_type=post&__tn__=!%3AD'}\n",
      "{'title': 'Iphone 13 pro, 128G', 'price': 600.0, 'location': 'Longueuil, QC', 'url': '/marketplace/item/509385421822136/?ref=search&referral_code=null&referral_story_type=post&__tn__=!%3AD'}\n",
      "{'title': 'Iphone 13', 'price': 550.0, 'location': 'Montréal, QC', 'url': '/marketplace/item/517773497689455/?ref=search&referral_code=null&referral_story_type=post&__tn__=!%3AD'}\n",
      "{'title': 'IPHONE 13 *IMPECCABLE', 'price': 470.0, 'location': 'Laval, QC', 'url': '/marketplace/item/384021148088750/?ref=search&referral_code=null&referral_story_type=post&__tn__=!%3AD'}\n",
      "{'title': 'Iphone 13 128gb Red', 'price': 430.0, 'location': 'Deux-Montagnes, QC', 'url': '/marketplace/item/921860356452483/?ref=search&referral_code=null&referral_story_type=post&__tn__=!%3AD'}\n",
      "{'title': 'Iphone 13 128gb , 82% battery', 'price': 380.0, 'location': 'Montréal, QC', 'url': '/marketplace/item/1565201557748836/?ref=search&referral_code=null&referral_story_type=post&__tn__=!%3AD'}\n",
      "{'title': 'IPHONE 13 PRO FOR SALE 128 GB', 'price': 550.0, 'location': 'Ottawa, ON', 'url': '/marketplace/item/8392744794173716/?ref=search&referral_code=null&referral_story_type=post&__tn__=!%3AD'}\n",
      "{'title': 'iPhone 13 128gb + quad lock', 'price': 450.0, 'location': 'Ste-Anne-de-Sabrevois, QC', 'url': '/marketplace/item/8011690112273881/?ref=search&referral_code=null&referral_story_type=post&__tn__=!%3AD'}\n",
      "{'title': 'iPhone 13 pro 128 gb déverrouillé', 'price': 580.0, 'location': 'Montréal, QC', 'url': '/marketplace/item/548962461127733/?ref=search&referral_code=null&referral_story_type=post&__tn__=!%3AD'}\n",
      "{'title': 'CA$650', 'price': 600.0, 'location': 'Ottawa, ON', 'url': '/marketplace/item/448185584927673/?ref=search&referral_code=null&referral_story_type=post&__tn__=!%3AD'}\n",
      "{'title': 'iPhone 13 Pro Max 128gb', 'price': 550.0, 'location': 'Ottawa, ON', 'url': '/marketplace/item/3191645094303185/?ref=search&referral_code=null&referral_story_type=post&__tn__=!%3AD'}\n",
      "{'title': 'iPhone 13', 'price': 450.0, 'location': 'Notre-Dame-du-Bon-Conseil Paroisse, QC', 'url': '/marketplace/item/1106925117661859/?ref=search&referral_code=null&referral_story_type=post&__tn__=!%3AD'}\n",
      "{'title': 'Iphone 13', 'price': 485.0, 'location': 'Cornwall, ON', 'url': '/marketplace/item/3796843007238470/?ref=search&referral_code=null&referral_story_type=post&__tn__=!%3AD'}\n",
      "{'title': 'iPhone 13 Pro 128g batterie a été changé prix 550$', 'price': 550.0, 'location': 'Montréal, QC', 'url': '/marketplace/item/959494245982826/?ref=search&referral_code=null&referral_story_type=post&__tn__=!%3AD'}\n",
      "{'title': 'iPhone 13 unlocked', 'price': 550.0, 'location': 'Montréal, QC', 'url': '/marketplace/item/1072715287777946/?ref=search&referral_code=null&referral_story_type=post&__tn__=!%3AD'}\n",
      "{'title': 'iPhone 13 Pro', 'price': 570.0, 'location': 'Beloeil, QC', 'url': '/marketplace/item/1041457034121543/?ref=search&referral_code=null&referral_story_type=post&__tn__=!%3AD'}\n",
      "{'title': 'iPhone 13, 5G, 128GB, Midnight', 'price': 520.0, 'location': 'Montréal, QC', 'url': '/marketplace/item/1054761089442181/?ref=search&referral_code=null&referral_story_type=post&__tn__=!%3AD'}\n"
     ]
    }
   ],
   "source": [
    "import re\n",
    "\n",
    "extracted_data = []\n",
    "\n",
    "for item in item_data:\n",
    "    # Split the item string\n",
    "    parts = item.split(\", URL: \")\n",
    "    text = parts[0]  # This contains the text\n",
    "    url = parts[1] if len(parts) > 1 else 'No URL'  # This contains the URL\n",
    "\n",
    "    lines = text.split('\\n')  # Split the text into lines\n",
    "\n",
    "    numeric_pattern = re.compile(r'\\d[\\d,.]*')  # Regex for price\n",
    "    price = None  # Initialize price\n",
    "\n",
    "    # Extract price\n",
    "    for line in lines:\n",
    "        match = numeric_pattern.search(line)\n",
    "        if match:\n",
    "            price_str = match.group()\n",
    "            price = float(price_str.replace(',', '').replace('CA$', '').strip())  # Convert to float\n",
    "            print(f\"Price extracted: {price}\")\n",
    "            break\n",
    "\n",
    "    if price is None:\n",
    "        print(\"Price not found\")\n",
    "\n",
    "    # Title and location\n",
    "    title = lines[1] if len(lines) > 1 else 'No title'  # Assuming title is the second line\n",
    "    location = lines[-1] if lines else 'No location'  # Last line as location\n",
    "    \n",
    "    # Extract data into the array\n",
    "    extracted_data.append({\n",
    "        'title': title,\n",
    "        'price': price,\n",
    "        'location': location,\n",
    "        'url': url\n",
    "        #re.sub(r'\\?.*'\n",
    "    })\n",
    "\n",
    "# Print extracted data\n",
    "for data in extracted_data:\n",
    "    print(data)\n"
   ]
  },
  {
   "cell_type": "code",
   "execution_count": 176,
   "id": "f867a515-8f3a-45c4-8bc0-be2af4299070",
   "metadata": {},
   "outputs": [],
   "source": [
    "items_df = pd.DataFrame(extracted_data)\n",
    "\n",
    "sorted_df = items_df.sort_values(by ='price')\n",
    "\n",
    "cheapest_10 = sorted_df.head(10)"
   ]
  },
  {
   "cell_type": "code",
   "execution_count": 177,
   "id": "8292793b-6b2b-4394-8d9a-4c9ed8c4c01b",
   "metadata": {},
   "outputs": [
    {
     "data": {
      "text/html": [
       "<div>\n",
       "<style scoped>\n",
       "    .dataframe tbody tr th:only-of-type {\n",
       "        vertical-align: middle;\n",
       "    }\n",
       "\n",
       "    .dataframe tbody tr th {\n",
       "        vertical-align: top;\n",
       "    }\n",
       "\n",
       "    .dataframe thead th {\n",
       "        text-align: right;\n",
       "    }\n",
       "</style>\n",
       "<table border=\"1\" class=\"dataframe\">\n",
       "  <thead>\n",
       "    <tr style=\"text-align: right;\">\n",
       "      <th></th>\n",
       "      <th>title</th>\n",
       "      <th>price</th>\n",
       "      <th>location</th>\n",
       "      <th>url</th>\n",
       "    </tr>\n",
       "  </thead>\n",
       "  <tbody>\n",
       "    <tr>\n",
       "      <th>18</th>\n",
       "      <td>iPhone 13 512GB - Unlocked - New Cash 4 Phones...</td>\n",
       "      <td>300.0</td>\n",
       "      <td>Ottawa, ON</td>\n",
       "      <td>/marketplace/item/1516645163065576/?ref=search...</td>\n",
       "    </tr>\n",
       "    <tr>\n",
       "      <th>16</th>\n",
       "      <td>iPhone 13 (white)</td>\n",
       "      <td>300.0</td>\n",
       "      <td>North Bay, ON</td>\n",
       "      <td>/marketplace/item/3834218316834157/?ref=search...</td>\n",
       "    </tr>\n",
       "    <tr>\n",
       "      <th>5</th>\n",
       "      <td>iphone 13 mini 128gb</td>\n",
       "      <td>375.0</td>\n",
       "      <td>Montréal, QC</td>\n",
       "      <td>/marketplace/item/490229090653147/?ref=search&amp;...</td>\n",
       "    </tr>\n",
       "    <tr>\n",
       "      <th>23</th>\n",
       "      <td>Iphone 13 128gb , 82% battery</td>\n",
       "      <td>380.0</td>\n",
       "      <td>Montréal, QC</td>\n",
       "      <td>/marketplace/item/1565201557748836/?ref=search...</td>\n",
       "    </tr>\n",
       "    <tr>\n",
       "      <th>22</th>\n",
       "      <td>Iphone 13 128gb Red</td>\n",
       "      <td>430.0</td>\n",
       "      <td>Deux-Montagnes, QC</td>\n",
       "      <td>/marketplace/item/921860356452483/?ref=search&amp;...</td>\n",
       "    </tr>\n",
       "    <tr>\n",
       "      <th>12</th>\n",
       "      <td>IPHONE 13 NOIR TRÈS BON ÉTAT 128GB</td>\n",
       "      <td>440.0</td>\n",
       "      <td>Montréal, QC</td>\n",
       "      <td>/marketplace/item/492838133543202/?ref=search&amp;...</td>\n",
       "    </tr>\n",
       "    <tr>\n",
       "      <th>2</th>\n",
       "      <td>iPhone 13 128 Gb</td>\n",
       "      <td>450.0</td>\n",
       "      <td>Montréal, QC</td>\n",
       "      <td>/marketplace/item/1070938851221745/?ref=search...</td>\n",
       "    </tr>\n",
       "    <tr>\n",
       "      <th>29</th>\n",
       "      <td>iPhone 13</td>\n",
       "      <td>450.0</td>\n",
       "      <td>Notre-Dame-du-Bon-Conseil Paroisse, QC</td>\n",
       "      <td>/marketplace/item/1106925117661859/?ref=search...</td>\n",
       "    </tr>\n",
       "    <tr>\n",
       "      <th>25</th>\n",
       "      <td>iPhone 13 128gb + quad lock</td>\n",
       "      <td>450.0</td>\n",
       "      <td>Ste-Anne-de-Sabrevois, QC</td>\n",
       "      <td>/marketplace/item/8011690112273881/?ref=search...</td>\n",
       "    </tr>\n",
       "    <tr>\n",
       "      <th>0</th>\n",
       "      <td>Excellent condition white Apple IPhone 13 128 GB</td>\n",
       "      <td>455.0</td>\n",
       "      <td>Candiac, QC</td>\n",
       "      <td>/marketplace/item/1082804089882334/?ref=search...</td>\n",
       "    </tr>\n",
       "  </tbody>\n",
       "</table>\n",
       "</div>"
      ],
      "text/plain": [
       "                                                title  price  \\\n",
       "18  iPhone 13 512GB - Unlocked - New Cash 4 Phones...  300.0   \n",
       "16                                  iPhone 13 (white)  300.0   \n",
       "5                                iphone 13 mini 128gb  375.0   \n",
       "23                      Iphone 13 128gb , 82% battery  380.0   \n",
       "22                                Iphone 13 128gb Red  430.0   \n",
       "12                 IPHONE 13 NOIR TRÈS BON ÉTAT 128GB  440.0   \n",
       "2                                    iPhone 13 128 Gb  450.0   \n",
       "29                                          iPhone 13  450.0   \n",
       "25                        iPhone 13 128gb + quad lock  450.0   \n",
       "0    Excellent condition white Apple IPhone 13 128 GB  455.0   \n",
       "\n",
       "                                  location  \\\n",
       "18                              Ottawa, ON   \n",
       "16                           North Bay, ON   \n",
       "5                             Montréal, QC   \n",
       "23                            Montréal, QC   \n",
       "22                      Deux-Montagnes, QC   \n",
       "12                            Montréal, QC   \n",
       "2                             Montréal, QC   \n",
       "29  Notre-Dame-du-Bon-Conseil Paroisse, QC   \n",
       "25               Ste-Anne-de-Sabrevois, QC   \n",
       "0                              Candiac, QC   \n",
       "\n",
       "                                                  url  \n",
       "18  /marketplace/item/1516645163065576/?ref=search...  \n",
       "16  /marketplace/item/3834218316834157/?ref=search...  \n",
       "5   /marketplace/item/490229090653147/?ref=search&...  \n",
       "23  /marketplace/item/1565201557748836/?ref=search...  \n",
       "22  /marketplace/item/921860356452483/?ref=search&...  \n",
       "12  /marketplace/item/492838133543202/?ref=search&...  \n",
       "2   /marketplace/item/1070938851221745/?ref=search...  \n",
       "29  /marketplace/item/1106925117661859/?ref=search...  \n",
       "25  /marketplace/item/8011690112273881/?ref=search...  \n",
       "0   /marketplace/item/1082804089882334/?ref=search...  "
      ]
     },
     "execution_count": 177,
     "metadata": {},
     "output_type": "execute_result"
    }
   ],
   "source": [
    "cheapest_10"
   ]
  },
  {
   "cell_type": "code",
   "execution_count": 178,
   "id": "60a1b0e1-7c8c-41b6-b73d-dde541dfdee4",
   "metadata": {},
   "outputs": [
    {
     "name": "stdout",
     "output_type": "stream",
     "text": [
      "Message sent successfully\n"
     ]
    }
   ],
   "source": [
    "import requests\n",
    "\n",
    "# Create the message\n",
    "message = \"\"\n",
    "for index, row in cheapest_10.iterrows():\n",
    "    message += f\"Title: {row['title']}\\nPrice: {row['price']}\\nURL: {row['url']}\\n\\n\"\n",
    "\n",
    "# Prepare the payload\n",
    "payload = {\n",
    "    \"content\": message  # Send the message as content\n",
    "}\n",
    "\n",
    "# Define the correct Discord webhook/channel URL and headers\n",
    "discord_url = 'add chat url here'\n",
    "\n",
    "# Fix the typo in 'Authorization' and add \"Bot\" before the token\n",
    "headers = {\n",
    "    \"Authorization\": \"add authorisation key here\"\n",
    "}\n",
    "\n",
    "# Send the POST request\n",
    "response = requests.post(discord_url, payload, headers=headers)\n",
    "\n",
    "# Check response\n",
    "if response.status_code == 200:\n",
    "    print(\"Message sent successfully\")\n",
    "else:\n",
    "    print(f\"Failed to send message, status code: {response.status_code}\")\n"
   ]
  }
 ],
 "metadata": {
  "kernelspec": {
   "display_name": "Python 3 (ipykernel)",
   "language": "python",
   "name": "python3"
  },
  "language_info": {
   "codemirror_mode": {
    "name": "ipython",
    "version": 3
   },
   "file_extension": ".py",
   "mimetype": "text/x-python",
   "name": "python",
   "nbconvert_exporter": "python",
   "pygments_lexer": "ipython3",
   "version": "3.12.6"
  }
 },
 "nbformat": 4,
 "nbformat_minor": 5
}
